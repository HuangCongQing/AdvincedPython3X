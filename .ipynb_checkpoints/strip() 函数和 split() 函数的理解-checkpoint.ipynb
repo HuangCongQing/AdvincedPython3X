{
 "cells": [
  {
   "cell_type": "markdown",
   "metadata": {},
   "source": [
    "实际上strip是删除的意思；而split则是分割的意思。因此也表示了这两个功能是完全不一样的，strip可以删除字符串的某些字符，而split则是根据规定的字符将字符串进行分割。"
   ]
  },
  {
   "cell_type": "markdown",
   "metadata": {},
   "source": [
    "1 python strip()函数 介绍\n",
    "\n",
    "函数原型\n",
    "\n",
    "声明：s为字符串，rm为要删除的字符序列\n",
    "\n",
    "s.strip(rm)删除s字符串中开头、结尾处，位于 rm删除序列的字符\n",
    "\n",
    "s.lstrip(rm)删除s字符串中开头处，位于 rm删除序列的字符\n",
    "\n",
    "s.rstrip(rm)删除s字符串中结尾处，位于 rm删除序列的字符"
   ]
  },
  {
   "cell_type": "markdown",
   "metadata": {},
   "source": [
    "注意：\n",
    "\n",
    "（1）当rm为空时，默认删除空白符（包括'/n', '/r','/t', ' ')\n",
    "\n",
    "（2）这里的rm删除序列是只要边（开头或结尾）上的字符在删除序列内，就删除掉。\n",
    "\n",
    "例如，"
   ]
  },
  {
   "cell_type": "code",
   "execution_count": 45,
   "metadata": {
    "collapsed": true
   },
   "outputs": [],
   "source": [
    "a = '   \\n\\t\\r123ab'"
   ]
  },
  {
   "cell_type": "code",
   "execution_count": 46,
   "metadata": {},
   "outputs": [
    {
     "data": {
      "text/plain": [
       "'123ab'"
      ]
     },
     "execution_count": 46,
     "metadata": {},
     "output_type": "execute_result"
    }
   ],
   "source": [
    " a.strip()"
   ]
  },
  {
   "cell_type": "markdown",
   "metadata": {},
   "source": [
    "这里的rm删除序列是只要边（开头或结尾）上的字符在删除序列内，就删除掉。"
   ]
  },
  {
   "cell_type": "code",
   "execution_count": 26,
   "metadata": {},
   "outputs": [
    {
     "name": "stdout",
     "output_type": "stream",
     "text": [
      "3abc\n",
      "3abc\n"
     ]
    }
   ],
   "source": [
    "b = '123abc'   # 前有空格，.strip()就失效\n",
    "print(b.strip('21'))\n",
    "print(b.strip('12'))"
   ]
  },
  {
   "cell_type": "markdown",
   "metadata": {},
   "source": [
    "2 python split()函数 介绍\n",
    "* 说明：\n",
    "Python中没有字符类型的说法，只有字符串，这里所说的字符就是只包含一个字符的字符串！！！\n",
    "* 这里这样写的原因只是为了方便理解，仅此而已。"
   ]
  },
  {
   "cell_type": "markdown",
   "metadata": {},
   "source": [
    "（1）按某一个字符分割，如‘.’"
   ]
  },
  {
   "cell_type": "code",
   "execution_count": 30,
   "metadata": {},
   "outputs": [
    {
     "name": "stdout",
     "output_type": "stream",
     "text": [
      "['www', 'google', 'com']\n"
     ]
    }
   ],
   "source": [
    "str = ('www.google.com')\n",
    "print(str.split('.'))  # 字符串变数组"
   ]
  },
  {
   "cell_type": "markdown",
   "metadata": {},
   "source": [
    "（2）按某一个字符分割，且分割n次。如按‘.’分割1次"
   ]
  },
  {
   "cell_type": "code",
   "execution_count": 47,
   "metadata": {},
   "outputs": [
    {
     "name": "stdout",
     "output_type": "stream",
     "text": [
      "['www', 'google.com']\n"
     ]
    }
   ],
   "source": [
    "print(str.split('.',1))"
   ]
  },
  {
   "cell_type": "markdown",
   "metadata": {},
   "source": [
    "（3）split()函数后面还可以加正则表达式，例如："
   ]
  },
  {
   "cell_type": "code",
   "execution_count": 48,
   "metadata": {},
   "outputs": [
    {
     "name": "stdout",
     "output_type": "stream",
     "text": [
      "www\n"
     ]
    }
   ],
   "source": [
    "print(str.split('.')[0],str.split('.',1)[0])"
   ]
  },
  {
   "cell_type": "code",
   "execution_count": null,
   "metadata": {
    "collapsed": true
   },
   "outputs": [],
   "source": []
  }
 ],
 "metadata": {
  "kernelspec": {
   "display_name": "Python 3",
   "language": "python",
   "name": "python3"
  },
  "language_info": {
   "codemirror_mode": {
    "name": "ipython",
    "version": 3
   },
   "file_extension": ".py",
   "mimetype": "text/x-python",
   "name": "python",
   "nbconvert_exporter": "python",
   "pygments_lexer": "ipython3",
   "version": "3.5.4"
  }
 },
 "nbformat": 4,
 "nbformat_minor": 2
}
